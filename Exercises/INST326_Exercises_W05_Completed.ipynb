{
 "cells": [
  {
   "cell_type": "markdown",
   "id": "6e598e0c",
   "metadata": {
    "id": "6e598e0c"
   },
   "source": [
    "# INST326 — Week 5 Exercises: Encapsulation & Data Hiding (Library Management Project)\n",
    "\n",
    "**Scope guard:** These exercises stay within *Week 5 topics only* — encapsulation, private/protected attributes, getters/setters, and `@property` with validation. **Avoid** features introduced in later weeks (e.g., class/staticmethods, inheritance, abstract classes, advanced error handling/test frameworks).\n"
   ]
  },
  {
   "cell_type": "markdown",
   "id": "000f670e",
   "metadata": {
    "id": "000f670e"
   },
   "source": [
    "## Python skills you’ll need (Week 5 scope)\n",
    "\n",
    "- Defining classes and creating instances (`class`, `__init__`, `self`)\n",
    "- Naming conventions for attribute privacy (`_protected`, `__private`/name mangling)\n",
    "- Encapsulation patterns:\n",
    "  - Getter/setter methods\n",
    "  - `@property` / `@<name>.setter`\n",
    "  - Simple validation logic inside setters (e.g., type/empty checks, ranges)\n",
    "- Basic built-in types and operations (`str`, `int`, `float`, `bool`, `len`, `in`)\n",
    "- F-strings for messages (optional)\n",
    "- Simple list/dict usage for holding objects (no advanced collections needed)\n",
    "- Basic control flow (`if`, `for`)\n",
    "- (Optional but allowed) raising simple exceptions like `ValueError` in setters for invalid data (no try/except blocks required here)\n"
   ]
  },
  {
   "cell_type": "markdown",
   "id": "ed5fc3c1",
   "metadata": {
    "id": "ed5fc3c1"
   },
   "source": [
    "---\n",
    "## How to use this notebook\n",
    "\n",
    "Each exercise includes a short prompt and a starter code cell. Keep your solutions within **Week 5** boundaries. If an exercise references existing domain classes, you may stub minimal versions as needed inside the same cell (or reuse earlier cells). Keep code readable and well-encapsulated.\n"
   ]
  },
  {
   "cell_type": "markdown",
   "id": "39f1c63f",
   "metadata": {
    "id": "39f1c63f"
   },
   "source": [
    "### Exercise 1 — Encapsulated `Book` identifiers\n",
    "Create a `Book` class with *private* attributes `__isbn` (string) and `__title` (string). Expose read-only access via `@property` for both. Prevent empty strings at construction time using validation inside `__init__`. If invalid, either normalize to a sensible default or raise `ValueError` (your choice)."
   ]
  },
  {
   "cell_type": "code",
   "execution_count": 2,
   "id": "98da2f62",
   "metadata": {
    "id": "98da2f62"
   },
   "outputs": [
    {
     "name": "stdout",
     "output_type": "stream",
     "text": [
      "9780132350884 Clean Code\n"
     ]
    }
   ],
   "source": [
    "class Book:\n",
    "    def __init__(self, isbn: str, title: str):\n",
    "        self.__isbn = isbn\n",
    "        self.__title = title\n",
    "\n",
    "\n",
    "    @property\n",
    "    def isbn(self) -> str:\n",
    "        return self.__isbn\n",
    "\n",
    "    @property\n",
    "    def title(self) -> str:\n",
    "        return self.__title\n",
    "\n",
    "# Demo\n",
    "b = Book(\"9780132350884\", \"Clean Code\")\n",
    "print(b.isbn, b.title)\n"
   ]
  },
  {
   "cell_type": "markdown",
   "id": "1544d312",
   "metadata": {
    "id": "1544d312"
   },
   "source": [
    "### Exercise 2 — Writable `Member` email with validation\n",
    "Define a `Member` class with private `__email`. Provide `email` property and setter that requires `@` in the email and trims whitespace. Reject obviously invalid emails by raising `ValueError`. Provide a `__repr__` that shows member id and email."
   ]
  },
  {
   "cell_type": "code",
   "execution_count": 22,
   "id": "fbc94503",
   "metadata": {
    "id": "fbc94503"
   },
   "outputs": [
    {
     "name": "stdout",
     "output_type": "stream",
     "text": [
      "Member(id= 101, email= user@example.org) user@example.org\n"
     ]
    }
   ],
   "source": [
    "class Member:\n",
    "    def __init__(self, member_id: int, email: str):\n",
    "        self.__email = None\n",
    "        self.email = email\n",
    "        self.member_id = member_id\n",
    "    def __repr__(self) -> str:\n",
    "        return f\"Member(id= {self.member_id}, email= {self.__email})\"\n",
    "\n",
    "    @property\n",
    "    def email(self) -> str:\n",
    "        return self.__email\n",
    "        \n",
    "    @email.setter\n",
    "    def email(self, value: str) -> None:\n",
    "        value = str(value).strip()\n",
    "        if \"@\" not in value :\n",
    "            raise ValueError(\"Invalid email: must contain '@'\")\n",
    "        self.__email = value\n",
    "        \n",
    "# Demo\n",
    "m = Member(101, \"  user@example.org \")\n",
    "print(m, m.email)\n"
   ]
  },
  {
   "cell_type": "markdown",
   "id": "d762b4a3",
   "metadata": {
    "id": "d762b4a3"
   },
   "source": [
    "### Exercise 3 — Protected page count with non-negative constraint\n",
    "Extend `Book` (or create a fresh class here) with a *protected* attribute `_pages` and a `pages` property. Setter must coerce to `int` and ensure it’s ≥ 1 (treat 0/negatives as invalid)."
   ]
  },
  {
   "cell_type": "code",
   "execution_count": 27,
   "id": "5a0a667e",
   "metadata": {
    "id": "5a0a667e"
   },
   "outputs": [
    {
     "name": "stdout",
     "output_type": "stream",
     "text": [
      "700\n"
     ]
    }
   ],
   "source": [
    "class PagedBook:\n",
    "    def __init__(self, title: str, pages):\n",
    "        self._pages = None\n",
    "        self.pages = pages\n",
    "\n",
    "    @property\n",
    "    def pages(self) -> int:\n",
    "        return self._pages\n",
    "\n",
    "    @pages.setter\n",
    "    def pages(self, value) -> None:\n",
    "        value = int(value)\n",
    "        if value <= 0:\n",
    "            raise ValueError(\"Invalid page: must be greater than 0\")\n",
    "        self._pages = value\n",
    "# Demo\n",
    "pb = PagedBook(\"Fluent Python\", 700)\n",
    "print(pb.pages)\n"
   ]
  },
  {
   "cell_type": "markdown",
   "id": "760cd9e3",
   "metadata": {
    "id": "760cd9e3"
   },
   "source": [
    "### Exercise 4 — Loan period property with range check\n",
    "Create a `LoanPolicy` class with private `__max_days`. Provide property/settter ensuring 1 ≤ `max_days` ≤ 60. Default to 21 days."
   ]
  },
  {
   "cell_type": "code",
   "execution_count": 30,
   "id": "d1916dda",
   "metadata": {
    "id": "d1916dda"
   },
   "outputs": [
    {
     "name": "stdout",
     "output_type": "stream",
     "text": [
      "21\n"
     ]
    }
   ],
   "source": [
    "class LoanPolicy:\n",
    "    def __init__(self, max_days: int = 21):\n",
    "        self.__max_days = None\n",
    "        self.max_days = max_days\n",
    "\n",
    "    @property\n",
    "    def max_days(self) -> int:\n",
    "        return self.__max_days\n",
    "\n",
    "    @max_days.setter\n",
    "    def max_days(self, value: int) -> None:\n",
    "        if value <= 0 or value > 60:\n",
    "            raise ValueError(\"Invalid max day count: Must be between 1 and 60\")\n",
    "        self.__max_days = value\n",
    "\n",
    "# Demo\n",
    "p = LoanPolicy()\n",
    "print(p.max_days)\n"
   ]
  },
  {
   "cell_type": "markdown",
   "id": "0aa61a87",
   "metadata": {
    "id": "0aa61a87"
   },
   "source": [
    "### Exercise 5 — Read-only `copy_id`\n",
    "Create a `Copy` class representing a physical copy of a book with private `__copy_id` and protected `_condition` ('good', 'fair', 'poor'). Only `copy_id` is read-only. `condition` is a property with setter that restricts values to the allowed set."
   ]
  },
  {
   "cell_type": "code",
   "execution_count": 53,
   "id": "18efbe22",
   "metadata": {
    "id": "18efbe22"
   },
   "outputs": [
    {
     "name": "stdout",
     "output_type": "stream",
     "text": [
      "C-1001 fair\n"
     ]
    }
   ],
   "source": [
    "class Copy:\n",
    "    def __init__(self, copy_id: str, condition: str = \"good\"):\n",
    "        self.__copy_id = copy_id\n",
    "        self._condition = None\n",
    "        self.condition = condition\n",
    "\n",
    "    @property\n",
    "    def copy_id(self) -> str:\n",
    "        return self.__copy_id\n",
    "\n",
    "    @property\n",
    "    def condition(self) -> str:\n",
    "        return self._condition\n",
    "\n",
    "    @condition.setter\n",
    "    def condition(self, value: str) -> None:\n",
    "        if value != \"fair\" and value != \"good\" and value != \"poor\":\n",
    "            raise ValueError(\"Condition type error: value outside of allowed set\")\n",
    "        self._condition = value\n",
    "        \n",
    "\n",
    "# Demo\n",
    "c = Copy(\"C-1001\", \"fair\")\n",
    "print(c.copy_id, c.condition)\n"
   ]
  },
  {
   "cell_type": "markdown",
   "id": "7eef322f",
   "metadata": {
    "id": "7eef322f"
   },
   "source": [
    "### Exercise 6 — Late fee rate with type safety\n",
    "Create a `FeeSchedule` with private `__late_fee_per_day` (float). Property/settter must coerce numeric strings like '0.25' to float, and reject negatives."
   ]
  },
  {
   "cell_type": "code",
   "execution_count": 54,
   "id": "bb5ef7d2",
   "metadata": {
    "id": "bb5ef7d2"
   },
   "outputs": [
    {
     "name": "stdout",
     "output_type": "stream",
     "text": [
      "0.35\n"
     ]
    }
   ],
   "source": [
    "class FeeSchedule:\n",
    "    def __init__(self, late_fee_per_day):\n",
    "        # TODO: set via property and validate non-negative float\n",
    "        self.__late_fee_per_day = None\n",
    "        self.late_fee_per_day = late_fee_per_day\n",
    "        \n",
    "    @property\n",
    "    def late_fee_per_day(self) -> float:\n",
    "        return self.__late_fee_per_day\n",
    "\n",
    "    @late_fee_per_day.setter\n",
    "    def late_fee_per_day(self, value) -> None:\n",
    "        value = float(value)\n",
    "        if value < 0:\n",
    "            raise ValueError(\"Can not have negative fees\")\n",
    "        self.__late_fee_per_day = value\n",
    "\n",
    "# Demo\n",
    "fs = FeeSchedule(\"0.35\")\n",
    "print(fs.late_fee_per_day)\n"
   ]
  },
  {
   "cell_type": "markdown",
   "id": "07f5e2ad",
   "metadata": {
    "id": "07f5e2ad"
   },
   "source": [
    "### Exercise 7 — Aggregating encapsulated objects (simple list)\n",
    "Create a `Shelf` with a *protected* list `_copies`. Implement `add_copy(copy)` that accepts only `Copy` instances. Expose a read-only `copies` property returning a **tuple** (to prevent external mutation)."
   ]
  },
  {
   "cell_type": "code",
   "execution_count": 61,
   "id": "34d5cbff",
   "metadata": {
    "id": "34d5cbff"
   },
   "outputs": [
    {
     "name": "stdout",
     "output_type": "stream",
     "text": [
      "(<__main__.Copy object at 0x108e82d80>, <__main__.Copy object at 0x108e82a50>)\n"
     ]
    }
   ],
   "source": [
    "class Shelf:\n",
    "    def __init__(self):\n",
    "        self._copies = []\n",
    "\n",
    "    def add_copy(self, copy) -> None:\n",
    "        if not isinstance(copy, Copy):\n",
    "            raise TypeError(\"Only Copy instances can be added to Shelf\")\n",
    "        self._copies.append(copy)\n",
    "\n",
    "    @property\n",
    "    def copies(self):\n",
    "        return tuple(self._copies)\n",
    "\n",
    "# Demo (you can reuse your Copy class from Exercise 5)\n",
    "sh = Shelf()\n",
    "sh.add_copy(Copy(\"C-1\"))\n",
    "sh.add_copy(Copy(\"c-1002\"))\n",
    "print(sh.copies)\n"
   ]
  },
  {
   "cell_type": "markdown",
   "id": "50ff86fa",
   "metadata": {
    "id": "50ff86fa"
   },
   "source": [
    "### Exercise 8 — Borrower name normalization\n",
    "Create a `Borrower` with private `__first_name` and `__last_name`. Properties should normalize spacing and capitalization (`title()` is fine). Provide a read-only property `full_name`."
   ]
  },
  {
   "cell_type": "code",
   "execution_count": 66,
   "id": "11bc027e",
   "metadata": {
    "id": "11bc027e"
   },
   "outputs": [
    {
     "name": "stdout",
     "output_type": "stream",
     "text": [
      "Alice Johnson\n"
     ]
    }
   ],
   "source": [
    "class Borrower:\n",
    "    def __init__(self, first_name: str, last_name: str):\n",
    "        self.__first_name = None\n",
    "        self.__last_name = None\n",
    "        self.first_name = first_name\n",
    "        self.last_name = last_name\n",
    "\n",
    "    @property\n",
    "    def first_name(self) -> str:\n",
    "        return self.__first_name\n",
    "\n",
    "    @first_name.setter\n",
    "    def first_name(self, value: str) -> None:\n",
    "        value = value.strip().capitalize()\n",
    "        self.__first_name = value\n",
    "\n",
    "    @property\n",
    "    def last_name(self) -> str:\n",
    "        return self.__last_name\n",
    "\n",
    "    @last_name.setter\n",
    "    def last_name(self, value: str) -> None:\n",
    "        value = value.strip().capitalize()\n",
    "        self.__last_name = value\n",
    "\n",
    "    @property\n",
    "    def full_name(self) -> str:\n",
    "        return f\"{self.first_name} {self.last_name}\"\n",
    "\n",
    "# Demo\n",
    "b = Borrower(\"  aLiCe \", \"  johnson \")\n",
    "print(b.full_name)  # -> 'Alice Johnson'\n"
   ]
  },
  {
   "cell_type": "markdown",
   "id": "7fd7fc2a",
   "metadata": {
    "id": "7fd7fc2a"
   },
   "source": [
    "### Exercise 9 — Minimum age policy for membership\n",
    "Create `MembershipPolicy` with private `__min_age` default 13. Property/settter must enforce 0 ≤ min_age ≤ 120 and coerce to `int`. Add method `is_eligible(age)` that checks age against the policy (no class/staticmethods)."
   ]
  },
  {
   "cell_type": "code",
   "execution_count": 68,
   "id": "624580a0",
   "metadata": {
    "id": "624580a0"
   },
   "outputs": [
    {
     "name": "stdout",
     "output_type": "stream",
     "text": [
      "False True\n"
     ]
    }
   ],
   "source": [
    "class MembershipPolicy:\n",
    "    def __init__(self, min_age: int = 13):\n",
    "        self.min_age = min_age\n",
    "\n",
    "    @property\n",
    "    def min_age(self) -> int:\n",
    "        return self.__min_age\n",
    "\n",
    "    @min_age.setter\n",
    "    def min_age(self, value) -> None:\n",
    "        value = int(value)\n",
    "        if not (0 <= value <= 120):\n",
    "            raise ValueError(\"min_age must be between 0 and 120\")\n",
    "        self.__min_age = value\n",
    "\n",
    "    def is_eligible(self, age) -> bool:\n",
    "        age = int(age)\n",
    "        return age >= self.min_age\n",
    "\n",
    "# Demo\n",
    "mp = MembershipPolicy()\n",
    "print(mp.is_eligible(12), mp.is_eligible(15))\n"
   ]
  },
  {
   "cell_type": "markdown",
   "id": "5f1cc016",
   "metadata": {
    "id": "5f1cc016"
   },
   "source": [
    "### Exercise 10 — Encapsulated `Loan` dates (strings allowed)\n",
    "Create `Loan` with private `__start_date` and `__due_date` stored as ISO date strings 'YYYY-MM-DD'. Properties should validate format *lightly* via length and digit checks (no datetime imports)."
   ]
  },
  {
   "cell_type": "code",
   "execution_count": 73,
   "id": "d4998f58",
   "metadata": {
    "id": "d4998f58"
   },
   "outputs": [
    {
     "name": "stdout",
     "output_type": "stream",
     "text": [
      "2025-10-06 2025-10-27\n"
     ]
    }
   ],
   "source": [
    "class Loan:\n",
    "    def __init__(self, start_date: str, due_date: str):\n",
    "        self.start_date = start_date\n",
    "        self.due_date = due_date\n",
    "\n",
    "    @property\n",
    "    def start_date(self) -> str:\n",
    "        return self.__start_date\n",
    "\n",
    "    @start_date.setter\n",
    "    def start_date(self, value: str) -> None:\n",
    "        if not isinstance(value, str):\n",
    "            raise ValueError(\"Value must be a string\")\n",
    "        if len(value) != 10 or value[4] != '-' or value[7] != '-':\n",
    "            raise ValueError(\"Invalid start_date format: must be 'YYYY-MM-DD'\")\n",
    "        self.__start_date = value\n",
    "\n",
    "    @property\n",
    "    def due_date(self) -> str:\n",
    "        return self.__due_date\n",
    "\n",
    "    @due_date.setter\n",
    "    def due_date(self, value: str) -> None:\n",
    "        if not isinstance(value, str):\n",
    "            raise ValueError(\"Value must be a string\")\n",
    "        if len(value) != 10 or value[4] != '-' or value[7] != '-':\n",
    "            raise ValueError(\"Invalid start_date format: must be 'YYYY-MM-DD'\")\n",
    "        self.__due_date = value\n",
    "\n",
    "# Demo\n",
    "ln = Loan(\"2025-10-06\", \"2025-10-27\")\n",
    "print(ln.start_date, ln.due_date)\n"
   ]
  },
  {
   "cell_type": "markdown",
   "id": "638ea0c5",
   "metadata": {
    "id": "638ea0c5"
   },
   "source": [
    "### Exercise 11 — Computed read-only property: `is_overdue`\n",
    "On `Loan` (or your own class), add a read-only boolean property `is_overdue` that compares today-as-string provided to a method e.g., `mark_today(date_str)` that stores a private `__today`. No datetime libs; simple string comparison is acceptable."
   ]
  },
  {
   "cell_type": "code",
   "execution_count": 76,
   "id": "d7473a12",
   "metadata": {
    "id": "d7473a12"
   },
   "outputs": [
    {
     "name": "stdout",
     "output_type": "stream",
     "text": [
      "True\n"
     ]
    }
   ],
   "source": [
    "class SimpleLoan:\n",
    "    def __init__(self, due_date: str):\n",
    "        self.__due_date = due_date\n",
    "        self.__today = None\n",
    "\n",
    "    def mark_today(self, date_str: str) -> None:\n",
    "        if isinstance(date_str, str) and len(date_str) == 10 and date_str.count('-') == 2:\n",
    "            self.__today = date_str\n",
    "        else:\n",
    "            raise ValueError(\"Invalid date format. Use 'YYYY-MM-DD'.\")\n",
    "    @property\n",
    "    def is_overdue(self) -> bool:\n",
    "        if self.__today is None:\n",
    "            return False\n",
    "        return self.__today > self.__due_date\n",
    "\n",
    "# Demo\n",
    "sl = SimpleLoan(\"2025-10-20\")\n",
    "sl.mark_today(\"2025-10-21\")\n",
    "print(sl.is_overdue)  # True\n"
   ]
  },
  {
   "cell_type": "markdown",
   "id": "b94a6fb1",
   "metadata": {
    "id": "b94a6fb1"
   },
   "source": [
    "### Exercise 12 — Immutable `LibraryCard` number\n",
    "Create `LibraryCard` with private `__number` (string). Provide only a read-only `number` property. Add optional `pin` with setter that requires 4 digits. Do **not** allow number changes after construction."
   ]
  },
  {
   "cell_type": "code",
   "execution_count": 89,
   "id": "81a35c8d",
   "metadata": {
    "id": "81a35c8d"
   },
   "outputs": [
    {
     "name": "stdout",
     "output_type": "stream",
     "text": [
      "CARD-0001 1234\n"
     ]
    }
   ],
   "source": [
    "class LibraryCard:\n",
    "    def __init__(self, number: str, pin: str | None = None):\n",
    "        # TODO: number is immutable; pin uses property with 4-digit rule\n",
    "        self.__number = number\n",
    "        self.pin = None\n",
    "\n",
    "    @property\n",
    "    def number(self) -> str:\n",
    "        return self.__number\n",
    "\n",
    "    @property\n",
    "    def pin(self) -> str | None:\n",
    "        return self._pin\n",
    "\n",
    "    @pin.setter\n",
    "    def pin(self, value: str) -> None:\n",
    "        value = str(value)\n",
    "        if len(value) > 4 or len(value) < 4:\n",
    "            raise ValueError(\"pin must be 4 digits\")\n",
    "        self._pin = value\n",
    "\n",
    "# Demo\n",
    "lc = LibraryCard(\"CARD-0001\")\n",
    "lc.pin = \"1234\"\n",
    "print(lc.number, lc.pin)\n"
   ]
  },
  {
   "cell_type": "markdown",
   "id": "5384492f",
   "metadata": {
    "id": "5384492f"
   },
   "source": [
    "### Exercise 13 — Title case normalization with `@property`\n",
    "Add a `title` property to `Book`-like class that always returns title-cased text and stores trimmed private `__title`. Prevent setting titles shorter than 2 characters."
   ]
  },
  {
   "cell_type": "code",
   "execution_count": 90,
   "id": "5f7ba023",
   "metadata": {
    "id": "5f7ba023"
   },
   "outputs": [
    {
     "name": "stdout",
     "output_type": "stream",
     "text": [
      "The Pragmatic Programmer\n"
     ]
    }
   ],
   "source": [
    "class TitledBook:\n",
    "    def __init__(self, title: str):\n",
    "        self.title = title\n",
    "\n",
    "    @property\n",
    "    def title(self) -> str:\n",
    "        return self.__title\n",
    "\n",
    "    @title.setter\n",
    "    def title(self, value: str) -> None:\n",
    "        normalized = value.strip()\n",
    "        if len(normalized) < 2:\n",
    "            raise ValueError(\"Title must be at least 2 characters long.\")\n",
    "        self.__title = normalized.title()\n",
    "\n",
    "# Demo\n",
    "tb = TitledBook(\"  the pragmatic programmer \")\n",
    "print(tb.title)  # 'The Pragmatic Programmer'\n"
   ]
  },
  {
   "cell_type": "markdown",
   "id": "9c5fe023",
   "metadata": {
    "id": "9c5fe023"
   },
   "source": [
    "### Exercise 14 — Encapsulated search query history\n",
    "Create `SearchSession` with *protected* list `_queries`. Provide `add_query(q: str)` that stores trimmed non-empty strings only. Expose a read-only `queries` tuple property."
   ]
  },
  {
   "cell_type": "code",
   "execution_count": 92,
   "id": "5f2053fd",
   "metadata": {
    "id": "5f2053fd"
   },
   "outputs": [
    {
     "name": "stdout",
     "output_type": "stream",
     "text": [
      "('design patterns',)\n"
     ]
    }
   ],
   "source": [
    "class SearchSession:\n",
    "    def __init__(self):\n",
    "        self._queries = []\n",
    "\n",
    "    def add_query(self, q: str) -> None:\n",
    "        trimmed = q.strip()\n",
    "        if trimmed:\n",
    "            self._queries.append(trimmed)\n",
    "\n",
    "    @property\n",
    "    def queries(self):\n",
    "       return tuple(self._queries)\n",
    "\n",
    "# Demo\n",
    "ss = SearchSession()\n",
    "ss.add_query(\"  design patterns \")\n",
    "print(ss.queries)\n"
   ]
  },
  {
   "cell_type": "markdown",
   "id": "3b4f9db1",
   "metadata": {
    "id": "3b4f9db1"
   },
   "source": [
    "### Exercise 15 — Simple `Tag` with sanitized names\n",
    "Create `Tag` with private `__name`. Setter should lowercase, strip spaces, and collapse internal whitespace to single spaces. Reject tags longer than 30 characters."
   ]
  },
  {
   "cell_type": "code",
   "execution_count": 4,
   "id": "d21d7ff7",
   "metadata": {
    "id": "d21d7ff7"
   },
   "outputs": [
    {
     "name": "stdout",
     "output_type": "stream",
     "text": [
      "object oriented design\n"
     ]
    }
   ],
   "source": [
    "class Tag:\n",
    "    def __init__(self, name: str):\n",
    "        self.name = name\n",
    "\n",
    "    @property\n",
    "    def name(self) -> str:\n",
    "        return self.__name\n",
    "\n",
    "    @name.setter\n",
    "    def name(self, value: str) -> None:\n",
    "        sanitized = value.strip().lower()\n",
    "        parts = sanitized.split()\n",
    "        sanitized = \" \".join(parts)\n",
    "        if len(sanitized) > 30:\n",
    "            raise ValueError(\"Tag name must be 30 characters or fewer.\")\n",
    "\n",
    "        self.__name = sanitized\n",
    "\n",
    "# Demo\n",
    "t = Tag(\"  Object   Oriented   Design   \")\n",
    "print(t.name)  # 'object oriented design'\n"
   ]
  },
  {
   "cell_type": "markdown",
   "id": "e113214a",
   "metadata": {
    "id": "e113214a"
   },
   "source": [
    "### Exercise 16 — `BookCopy` status transitions via setter\n",
    "Create `BookCopy` with private `__status` in {'available','on_loan','missing'}. The `status` setter should only allow transitions:\n",
    "available → on_loan → available, and *any* → missing. Invalid transitions should be rejected (e.g., raise `ValueError`)."
   ]
  },
  {
   "cell_type": "code",
   "execution_count": 7,
   "id": "f501e1d8",
   "metadata": {
    "id": "f501e1d8"
   },
   "outputs": [
    {
     "name": "stdout",
     "output_type": "stream",
     "text": [
      "missing\n"
     ]
    }
   ],
   "source": [
    "class BookCopy:\n",
    "    def __init__(self, copy_id: str, status: str = \"available\"):\n",
    "        self.copy_id = copy_id\n",
    "        self.__status = None\n",
    "        self.status = status\n",
    "\n",
    "    @property\n",
    "    def status(self) -> str:\n",
    "        return self.__status\n",
    "\n",
    "    @status.setter\n",
    "    def status(self, value: str) -> None:\n",
    "        allowed_statuses = {\"available\", \"on_loan\", \"missing\"}\n",
    "        if value not in allowed_statuses:\n",
    "            raise ValueError(f\"Invalid status: {value}. Must be one of {allowed_statuses}\")\n",
    "\n",
    "        if value == \"missing\":\n",
    "            self.__status = value\n",
    "            return\n",
    "\n",
    "        if self.__status is None:\n",
    "            if value != \"available\":\n",
    "                raise ValueError(\"Initial status must be 'available'\")\n",
    "            self.__status = value\n",
    "            return\n",
    "\n",
    "        valid_transitions = {\n",
    "            \"available\": {\"on_loan\", \"missing\"},\n",
    "            \"on_loan\": {\"available\", \"missing\"},\n",
    "            \"missing\": set()\n",
    "        }\n",
    "\n",
    "        if value not in valid_transitions[self.__status]:\n",
    "            raise ValueError(f\"Invalid transition from {self.__status} to {value}\")\n",
    "\n",
    "        self.__status = value\n",
    "\n",
    "\n",
    "# Demo\n",
    "bc = BookCopy(\"C-2001\")\n",
    "bc.status = \"on_loan\"\n",
    "bc.status = \"available\"\n",
    "bc.status = \"missing\"\n",
    "print(bc.status)\n"
   ]
  },
  {
   "cell_type": "markdown",
   "id": "62fbd42e",
   "metadata": {
    "id": "62fbd42e"
   },
   "source": [
    "### Exercise 17 — `Account` balance with non-negative invariant\n",
    "Create `Account` with private `__balance` (float). Provide `deposit(amount)` and `withdraw(amount)` that update the balance via the `balance` property setter enforcing non-negative invariant and numeric coercion."
   ]
  },
  {
   "cell_type": "code",
   "execution_count": 9,
   "id": "c386729f",
   "metadata": {
    "id": "c386729f"
   },
   "outputs": [
    {
     "name": "stdout",
     "output_type": "stream",
     "text": [
      "9.5\n"
     ]
    }
   ],
   "source": [
    "class Account:\n",
    "    def __init__(self, opening_balance=0.0):\n",
    "        self.__balance = 0.0\n",
    "        self.balance = opening_balance\n",
    "\n",
    "    @property\n",
    "    def balance(self) -> float:\n",
    "        return self.__balance\n",
    "\n",
    "    @balance.setter\n",
    "    def balance(self, value) -> None:\n",
    "        try:\n",
    "            value = float(value)\n",
    "        except (TypeError, ValueError):\n",
    "            raise ValueError(f\"Balance must be a numeric value, got {value!r}\")\n",
    "\n",
    "        if value < 0:\n",
    "            raise ValueError(\"Balance cannot be negative\")\n",
    "\n",
    "        self.__balance = value\n",
    "\n",
    "    def deposit(self, amount) -> None:\n",
    "        try:\n",
    "            amount = float(amount)\n",
    "        except (TypeError, ValueError):\n",
    "            raise ValueError(f\"Deposit amount must be numeric, got {amount!r}\")\n",
    "\n",
    "        if amount < 0:\n",
    "            raise ValueError(\"Cannot deposit a negative amount\")\n",
    "\n",
    "        self.balance = self.balance + amount\n",
    "\n",
    "    def withdraw(self, amount) -> None:\n",
    "        try:\n",
    "            amount = float(amount)\n",
    "        except (TypeError, ValueError):\n",
    "            raise ValueError(f\"Withdrawal amount must be numeric, got {amount!r}\")\n",
    "\n",
    "        if amount < 0:\n",
    "            raise ValueError(\"Cannot withdraw a negative amount\")\n",
    "\n",
    "        if amount > self.balance:\n",
    "            raise ValueError(\"Insufficient funds\")\n",
    "\n",
    "        self.balance = self.balance - amount\n",
    "\n",
    "# Demo\n",
    "a = Account(5)\n",
    "a.deposit(\"4.5\")\n",
    "print(a.balance)  # 9.5\n"
   ]
  },
  {
   "cell_type": "markdown",
   "id": "68180987",
   "metadata": {
    "id": "68180987"
   },
   "source": [
    "### Exercise 18 — `HoldRequest` priority (1–5)\n",
    "Create `HoldRequest` with private `__priority` (int). Property setter must coerce to int and clamp/validate to 1–5. Add read-only `created_by_member_id`."
   ]
  },
  {
   "cell_type": "code",
   "execution_count": 10,
   "id": "e7bc75f9",
   "metadata": {
    "id": "e7bc75f9"
   },
   "outputs": [
    {
     "name": "stdout",
     "output_type": "stream",
     "text": [
      "42 5\n"
     ]
    }
   ],
   "source": [
    "class HoldRequest:\n",
    "    def __init__(self, created_by_member_id: int, priority: int = 3):\n",
    "        self.__created_by_member_id = int(created_by_member_id)\n",
    "        self.__priority = None\n",
    "        self.priority = priority\n",
    "\n",
    "    @property\n",
    "    def created_by_member_id(self) -> int:\n",
    "        return self.__created_by_member_id\n",
    "\n",
    "    @property\n",
    "    def priority(self) -> int:\n",
    "        return self.__priority\n",
    "\n",
    "    @priority.setter\n",
    "    def priority(self, value) -> None:\n",
    "        try:\n",
    "            value = int(value)\n",
    "        except (TypeError, ValueError):\n",
    "            raise ValueError(f\"Priority must be an integer, got {value!r}\")\n",
    "\n",
    "        # Clamp priority to range [1, 5]\n",
    "        if value < 1:\n",
    "            value = 1\n",
    "        elif value > 5:\n",
    "            value = 5\n",
    "\n",
    "        self.__priority = value\n",
    "\n",
    "# Demo\n",
    "hr = HoldRequest(42, 5)\n",
    "print(hr.created_by_member_id, hr.priority)\n"
   ]
  },
  {
   "cell_type": "markdown",
   "id": "c2797412",
   "metadata": {
    "id": "c2797412"
   },
   "source": [
    "### Exercise 19 — `CatalogRecord` with encapsulated fields & snapshot\n",
    "Create `CatalogRecord` with private fields `__title`, `__author`, `__year` and respective properties (validate year 1450–2100). Add method `snapshot()` that returns a **new dict** with current public state (not the private attributes)."
   ]
  },
  {
   "cell_type": "code",
   "execution_count": 11,
   "id": "6d426a3f",
   "metadata": {
    "id": "6d426a3f"
   },
   "outputs": [
    {
     "name": "stdout",
     "output_type": "stream",
     "text": [
      "{'title': 'Design Patterns', 'author': 'Gamma et al.', 'year': 1994}\n"
     ]
    }
   ],
   "source": [
    "class CatalogRecord:\n",
    "    def __init__(self, title: str, author: str, year):\n",
    "        self.title = title\n",
    "        self.author = author\n",
    "        self.year = year\n",
    "\n",
    "    @property\n",
    "    def title(self) -> str:\n",
    "        return self.__title\n",
    "\n",
    "    @title.setter\n",
    "    def title(self, value: str) -> None:\n",
    "        if not isinstance(value, str) or not value.strip():\n",
    "            raise ValueError(\"Title must be a non-empty string\")\n",
    "        self.__title = value.strip()\n",
    "\n",
    "    @property\n",
    "    def author(self) -> str:\n",
    "        return self.__author\n",
    "\n",
    "    @author.setter\n",
    "    def author(self, value: str) -> None:\n",
    "        if not isinstance(value, str) or not value.strip():\n",
    "            raise ValueError(\"Author must be a non-empty string\")\n",
    "        self.__author = value.strip()\n",
    "\n",
    "    @property\n",
    "    def year(self) -> int:\n",
    "        return self.__year\n",
    "\n",
    "    @year.setter\n",
    "    def year(self, value) -> None:\n",
    "        try:\n",
    "            value = int(value)\n",
    "        except (TypeError, ValueError):\n",
    "            raise ValueError(f\"Year must be an integer, got {value!r}\")\n",
    "\n",
    "        if not (1450 <= value <= 2100):\n",
    "            raise ValueError(\"Year must be between 1450 and 2100\")\n",
    "\n",
    "        self.__year = value\n",
    "\n",
    "    def snapshot(self) -> dict:\n",
    "        return {\n",
    "            \"title\": self.title,\n",
    "            \"author\": self.author,\n",
    "            \"year\": self.year\n",
    "        }\n",
    "\n",
    "# Demo\n",
    "rec = CatalogRecord(\"Design Patterns\", \"Gamma et al.\", 1994)\n",
    "print(rec.snapshot())\n"
   ]
  },
  {
   "cell_type": "markdown",
   "id": "55cbda91",
   "metadata": {
    "id": "55cbda91"
   },
   "source": [
    "### Exercise 20 — `Settings` with encapsulated feature flags\n",
    "Create `Settings` with private `__flags` dict (keys: 'allow_guest_checkout', 'enable_notifications'). Provide boolean properties for each flag that safely read/write the underlying dict while ensuring boolean values."
   ]
  },
  {
   "cell_type": "code",
   "execution_count": 12,
   "id": "02c4979d",
   "metadata": {
    "id": "02c4979d"
   },
   "outputs": [
    {
     "name": "stdout",
     "output_type": "stream",
     "text": [
      "True True\n"
     ]
    }
   ],
   "source": [
    "class Settings:\n",
    "    def __init__(self, allow_guest_checkout: bool = False, enable_notifications: bool = True):\n",
    "        self.__flags = {}\n",
    "        self.allow_guest_checkout = allow_guest_checkout\n",
    "        self.enable_notifications = enable_notifications\n",
    "\n",
    "    @property\n",
    "    def allow_guest_checkout(self) -> bool:\n",
    "        return self.__flags.get(\"allow_guest_checkout\", False)\n",
    "\n",
    "    @allow_guest_checkout.setter\n",
    "    def allow_guest_checkout(self, value) -> None:\n",
    "        self.__flags[\"allow_guest_checkout\"] = bool(value)\n",
    "\n",
    "    @property\n",
    "    def enable_notifications(self) -> bool:\n",
    "        return self.__flags.get(\"enable_notifications\", True)\n",
    "\n",
    "    @enable_notifications.setter\n",
    "    def enable_notifications(self, value) -> None:\n",
    "        self.__flags[\"enable_notifications\"] = bool(value)\n",
    "\n",
    "# Demo\n",
    "s = Settings()\n",
    "s.allow_guest_checkout = 1\n",
    "print(s.allow_guest_checkout, s.enable_notifications)\n"
   ]
  },
  {
   "cell_type": "code",
   "execution_count": null,
   "id": "57e44ba7-4830-4759-9587-f3a74d9e653e",
   "metadata": {},
   "outputs": [],
   "source": []
  }
 ],
 "metadata": {
  "colab": {
   "provenance": []
  },
  "kernelspec": {
   "display_name": "Python 3 (ipykernel)",
   "language": "python",
   "name": "python3"
  },
  "language_info": {
   "codemirror_mode": {
    "name": "ipython",
    "version": 3
   },
   "file_extension": ".py",
   "mimetype": "text/x-python",
   "name": "python",
   "nbconvert_exporter": "python",
   "pygments_lexer": "ipython3",
   "version": "3.12.5"
  }
 },
 "nbformat": 4,
 "nbformat_minor": 5
}
